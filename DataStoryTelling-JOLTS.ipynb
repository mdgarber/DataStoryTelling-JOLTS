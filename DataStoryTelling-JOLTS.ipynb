{
 "cells": [
  {
   "cell_type": "markdown",
   "id": "953a53d8-f591-4cd9-bcfa-55b09ee0f279",
   "metadata": {},
   "source": [
    "# Data Storytelling - JOLTS\n",
    "#### _A look at US Job Openings data over time_\n",
    "***\n",
    "_Michael Garber_"
   ]
  },
  {
   "cell_type": "markdown",
   "id": "86185f6c-2289-481f-b58a-fc8dadcbd552",
   "metadata": {
    "tags": []
   },
   "source": [
    "# Table of Contents\n",
    "> 1. Introduce dataset\n",
    "2. Pick Audience\n",
    "3. EDA\n",
    "4. Create Narrative\n",
    "5. Presentation"
   ]
  },
  {
   "cell_type": "markdown",
   "id": "f8b7695e-0bb2-4bc3-a0a9-170ee24b162e",
   "metadata": {},
   "source": [
    "## Introduction\n",
    "\n",
    "- I have chosen to analyze the the ***JOLTS*** dataset\n",
    "\n",
    "- \"The Job Openings and Labor Turnover Survey (JOLTS) program of the Bureau of Labor Statistics (BLS) produces monthly and annual estimates of job openings, hires, and separations for the nation.\"\n",
    "\n",
    "- Goal: share the story told by the recent trends found within. I will specifically focus on the job openings to understand the labor demands.\n",
    "\n",
    "- Data Set\n",
    "> Info URL - https://www.bls.gov/jlt/jltover.htm \\\n",
    "Data URL - https://download.bls.gov/pub/time.series/jt/jt.data.2.JobOpenings \\\n",
    "Data Definitions - https://download.bls.gov/pub/time.series/jt/jt.txt"
   ]
  },
  {
   "cell_type": "markdown",
   "id": "ad080620-9b1f-4728-9273-ddf8c1c5e3d8",
   "metadata": {
    "tags": []
   },
   "source": [
    "## Pick Audience\n",
    "\n",
    "- I have chosen to target a ***non-technical audience***.\n",
    "    - I will take care to make the findings accessible and ***hopefully*** _interesting._"
   ]
  },
  {
   "cell_type": "markdown",
   "id": "2331a8d8-8765-437d-8dba-24fce9860ef9",
   "metadata": {
    "tags": []
   },
   "source": [
    "## EDA\n",
    "> What can we learn about the data?\n",
    "\n",
    "- Can I count something interesting?\n",
    "- Can I find trends (e.g. high, low, increasing, decreasing, anomalies)?\n",
    "- Can I make a bar plot or a histogram?\n",
    "- Can I compare two related quantities?\n",
    "- Can I make a scatterplot?\n",
    "- Can I make a time-series plot?\n",
    "- Looking at the plots, what are some insights I can make?\n",
    "- Can I see any correlations?\n",
    "- Is there a hypothesis I can - and should - investigate further?\n",
    "- What other questions are the insights leading me to ask?"
   ]
  },
  {
   "cell_type": "code",
   "execution_count": 7,
   "id": "7c1d3f68-f318-4d97-ba86-752e909e7c06",
   "metadata": {
    "tags": []
   },
   "outputs": [],
   "source": [
    "# Import Libraries\n",
    "from pathlib import Path\n",
    "import pandas as pd\n",
    "from matplotlib import pyplot as plt\n",
    "import seaborn as sns\n",
    "import time\n",
    "from datetime import date"
   ]
  },
  {
   "cell_type": "code",
   "execution_count": 22,
   "id": "58564d68-d463-4c65-b17c-f467c231095f",
   "metadata": {
    "tags": []
   },
   "outputs": [],
   "source": [
    "# set input file col widths\n",
    "colWidths = [31, 5, 12, 4, 1]\n",
    "\n",
    "# Import JOLTS Data set\n",
    "joltsData = pd.read_fwf(filepath_or_buffer=\"Data/jt.data.2.JobOpenings\", widths=colWidths)"
   ]
  },
  {
   "cell_type": "code",
   "execution_count": 23,
   "id": "be2f9a6b-8f55-4d2d-a334-e222425af4df",
   "metadata": {
    "tags": []
   },
   "outputs": [
    {
     "data": {
      "text/html": [
       "<div>\n",
       "<style scoped>\n",
       "    .dataframe tbody tr th:only-of-type {\n",
       "        vertical-align: middle;\n",
       "    }\n",
       "\n",
       "    .dataframe tbody tr th {\n",
       "        vertical-align: top;\n",
       "    }\n",
       "\n",
       "    .dataframe thead th {\n",
       "        text-align: right;\n",
       "    }\n",
       "</style>\n",
       "<table border=\"1\" class=\"dataframe\">\n",
       "  <thead>\n",
       "    <tr style=\"text-align: right;\">\n",
       "      <th></th>\n",
       "      <th>series_id</th>\n",
       "      <th>year</th>\n",
       "      <th>period</th>\n",
       "      <th>va</th>\n",
       "      <th>l</th>\n",
       "    </tr>\n",
       "  </thead>\n",
       "  <tbody>\n",
       "    <tr>\n",
       "      <th>0</th>\n",
       "      <td>JTS000000000000000JOL</td>\n",
       "      <td>2000</td>\n",
       "      <td>M12</td>\n",
       "      <td>5088.0</td>\n",
       "      <td>NaN</td>\n",
       "    </tr>\n",
       "    <tr>\n",
       "      <th>1</th>\n",
       "      <td>JTS000000000000000JOL</td>\n",
       "      <td>2001</td>\n",
       "      <td>M01</td>\n",
       "      <td>5234.0</td>\n",
       "      <td>NaN</td>\n",
       "    </tr>\n",
       "    <tr>\n",
       "      <th>2</th>\n",
       "      <td>JTS000000000000000JOL</td>\n",
       "      <td>2001</td>\n",
       "      <td>M02</td>\n",
       "      <td>5097.0</td>\n",
       "      <td>NaN</td>\n",
       "    </tr>\n",
       "    <tr>\n",
       "      <th>3</th>\n",
       "      <td>JTS000000000000000JOL</td>\n",
       "      <td>2001</td>\n",
       "      <td>M03</td>\n",
       "      <td>4762.0</td>\n",
       "      <td>NaN</td>\n",
       "    </tr>\n",
       "    <tr>\n",
       "      <th>4</th>\n",
       "      <td>JTS000000000000000JOL</td>\n",
       "      <td>2001</td>\n",
       "      <td>M04</td>\n",
       "      <td>4615.0</td>\n",
       "      <td>NaN</td>\n",
       "    </tr>\n",
       "  </tbody>\n",
       "</table>\n",
       "</div>"
      ],
      "text/plain": [
       "               series_id  year period      va   l\n",
       "0  JTS000000000000000JOL  2000    M12  5088.0 NaN\n",
       "1  JTS000000000000000JOL  2001    M01  5234.0 NaN\n",
       "2  JTS000000000000000JOL  2001    M02  5097.0 NaN\n",
       "3  JTS000000000000000JOL  2001    M03  4762.0 NaN\n",
       "4  JTS000000000000000JOL  2001    M04  4615.0 NaN"
      ]
     },
     "execution_count": 23,
     "metadata": {},
     "output_type": "execute_result"
    }
   ],
   "source": [
    "# check data head\n",
    "joltsData.head()"
   ]
  },
  {
   "cell_type": "code",
   "execution_count": 26,
   "id": "bbaee5c4-494f-4d91-aefc-f690e087d798",
   "metadata": {
    "tags": []
   },
   "outputs": [
    {
     "name": "stdout",
     "output_type": "stream",
     "text": [
      "<class 'pandas.core.frame.DataFrame'>\n",
      "RangeIndex: 105634 entries, 0 to 105633\n",
      "Data columns (total 5 columns):\n",
      " #   Column     Non-Null Count   Dtype  \n",
      "---  ------     --------------   -----  \n",
      " 0   series_id  105634 non-null  object \n",
      " 1   year       105634 non-null  int64  \n",
      " 2   period     105634 non-null  object \n",
      " 3   va         105634 non-null  float64\n",
      " 4   l          0 non-null       float64\n",
      "dtypes: float64(2), int64(1), object(2)\n",
      "memory usage: 4.0+ MB\n"
     ]
    }
   ],
   "source": [
    "joltsData.info()"
   ]
  },
  {
   "cell_type": "code",
   "execution_count": 28,
   "id": "db877dfc-9618-45e3-afb9-9093cb4796f9",
   "metadata": {
    "tags": []
   },
   "outputs": [
    {
     "name": "stdout",
     "output_type": "stream",
     "text": [
      "period\n",
      "M02              8540\n",
      "M03              8540\n",
      "M05              8540\n",
      "M12              8539\n",
      "M04              8539\n",
      "M06              8539\n",
      "M09              8539\n",
      "M01              8538\n",
      "M08              8538\n",
      "M07              8536\n",
      "M11              8183\n",
      "M10              8181\n",
      "M13              3816\n",
      "M07\\t       1       8\n",
      "M10\\t       1       7\n",
      "M08\\t       1       6\n",
      "M01\\t       1       6\n",
      "M09\\t       1       5\n",
      "M11\\t       1       5\n",
      "M12\\t       1       5\n",
      "M04\\t       1       5\n",
      "M06\\t       1       5\n",
      "M02\\t       1       4\n",
      "M03\\t       1       4\n",
      "M05\\t       1       4\n",
      "M13\\t       1       2\n",
      "Name: count, dtype: int64\n",
      "year\n",
      "2012    4438\n",
      "2001    4438\n",
      "2021    4438\n",
      "2020    4438\n",
      "2019    4438\n",
      "2018    4438\n",
      "2017    4438\n",
      "2016    4438\n",
      "2015    4438\n",
      "2014    4438\n",
      "2013    4438\n",
      "2011    4438\n",
      "2023    4438\n",
      "2010    4438\n",
      "2009    4438\n",
      "2008    4438\n",
      "2007    4438\n",
      "2006    4438\n",
      "2005    4438\n",
      "2004    4438\n",
      "2003    4438\n",
      "2002    4438\n",
      "2022    4438\n",
      "2024    3204\n",
      "2000     356\n",
      "Name: count, dtype: int64\n"
     ]
    }
   ],
   "source": [
    "# check data cleanliness\n",
    "print(joltsData['period'].value_counts())\n",
    "print(joltsData['year'].value_counts())"
   ]
  },
  {
   "cell_type": "code",
   "execution_count": 30,
   "id": "76a10fe1-49f7-4097-84f3-459118f45f09",
   "metadata": {
    "tags": []
   },
   "outputs": [],
   "source": [
    "# Clean Data\n",
    "\n",
    "# Drop unneeded Columns\n",
    "joltsData = joltsData.drop(['series_id', 'l'], axis=1)\n",
    "\n",
    "# Drop rows with wierd month notations (e.x. \"M06\\t 1\t\")\n",
    "rowsToDrop = joltsData[joltsData['period'].str.contains('\\t')].index\n",
    "joltsData = joltsData.drop(index=rowsToDrop)\n",
    "#joltsData[joltsData['period'].str.contains('\\t')]"
   ]
  },
  {
   "cell_type": "code",
   "execution_count": 32,
   "id": "8d28165b-a76c-4a84-a7ed-1630428cb124",
   "metadata": {
    "tags": []
   },
   "outputs": [
    {
     "data": {
      "text/html": [
       "<div>\n",
       "<style scoped>\n",
       "    .dataframe tbody tr th:only-of-type {\n",
       "        vertical-align: middle;\n",
       "    }\n",
       "\n",
       "    .dataframe tbody tr th {\n",
       "        vertical-align: top;\n",
       "    }\n",
       "\n",
       "    .dataframe thead th {\n",
       "        text-align: right;\n",
       "    }\n",
       "</style>\n",
       "<table border=\"1\" class=\"dataframe\">\n",
       "  <thead>\n",
       "    <tr style=\"text-align: right;\">\n",
       "      <th></th>\n",
       "      <th>year</th>\n",
       "      <th>period</th>\n",
       "      <th>va</th>\n",
       "    </tr>\n",
       "  </thead>\n",
       "  <tbody>\n",
       "    <tr>\n",
       "      <th>0</th>\n",
       "      <td>2000</td>\n",
       "      <td>M12</td>\n",
       "      <td>5088.0</td>\n",
       "    </tr>\n",
       "    <tr>\n",
       "      <th>1</th>\n",
       "      <td>2001</td>\n",
       "      <td>M01</td>\n",
       "      <td>5234.0</td>\n",
       "    </tr>\n",
       "    <tr>\n",
       "      <th>2</th>\n",
       "      <td>2001</td>\n",
       "      <td>M02</td>\n",
       "      <td>5097.0</td>\n",
       "    </tr>\n",
       "    <tr>\n",
       "      <th>3</th>\n",
       "      <td>2001</td>\n",
       "      <td>M03</td>\n",
       "      <td>4762.0</td>\n",
       "    </tr>\n",
       "    <tr>\n",
       "      <th>4</th>\n",
       "      <td>2001</td>\n",
       "      <td>M04</td>\n",
       "      <td>4615.0</td>\n",
       "    </tr>\n",
       "  </tbody>\n",
       "</table>\n",
       "</div>"
      ],
      "text/plain": [
       "   year period      va\n",
       "0  2000    M12  5088.0\n",
       "1  2001    M01  5234.0\n",
       "2  2001    M02  5097.0\n",
       "3  2001    M03  4762.0\n",
       "4  2001    M04  4615.0"
      ]
     },
     "execution_count": 32,
     "metadata": {},
     "output_type": "execute_result"
    }
   ],
   "source": [
    "# Check DF after cleaning\n",
    "joltsData.head()"
   ]
  },
  {
   "cell_type": "code",
   "execution_count": 34,
   "id": "197132fd-8d23-444d-8aad-033e04fb42cc",
   "metadata": {
    "tags": []
   },
   "outputs": [
    {
     "name": "stdout",
     "output_type": "stream",
     "text": [
      "period\n",
      "M02    8540\n",
      "M03    8540\n",
      "M05    8540\n",
      "M12    8539\n",
      "M04    8539\n",
      "M06    8539\n",
      "M09    8539\n",
      "M01    8538\n",
      "M08    8538\n",
      "M07    8536\n",
      "M11    8183\n",
      "M10    8181\n",
      "M13    3816\n",
      "Name: count, dtype: int64\n"
     ]
    }
   ],
   "source": [
    "# re-check data cleanliness - post clean\n",
    "print(joltsData['period'].value_counts())"
   ]
  },
  {
   "cell_type": "code",
   "execution_count": 36,
   "id": "b29a67cf-5916-4e80-8dab-de94b9191d49",
   "metadata": {},
   "outputs": [
    {
     "ename": "KeyboardInterrupt",
     "evalue": "Interrupted by user",
     "output_type": "error",
     "traceback": [
      "\u001b[1;31m---------------------------------------------------------------------------\u001b[0m",
      "\u001b[1;31mKeyboardInterrupt\u001b[0m                         Traceback (most recent call last)",
      "Cell \u001b[1;32mIn[36], line 1\u001b[0m\n\u001b[1;32m----> 1\u001b[0m \u001b[38;5;28minput\u001b[39m()\n",
      "File \u001b[1;32m~\\anaconda3\\Lib\\site-packages\\ipykernel\\kernelbase.py:1262\u001b[0m, in \u001b[0;36mKernel.raw_input\u001b[1;34m(self, prompt)\u001b[0m\n\u001b[0;32m   1260\u001b[0m     msg \u001b[38;5;241m=\u001b[39m \u001b[38;5;124m\"\u001b[39m\u001b[38;5;124mraw_input was called, but this frontend does not support input requests.\u001b[39m\u001b[38;5;124m\"\u001b[39m\n\u001b[0;32m   1261\u001b[0m     \u001b[38;5;28;01mraise\u001b[39;00m StdinNotImplementedError(msg)\n\u001b[1;32m-> 1262\u001b[0m \u001b[38;5;28;01mreturn\u001b[39;00m \u001b[38;5;28mself\u001b[39m\u001b[38;5;241m.\u001b[39m_input_request(\n\u001b[0;32m   1263\u001b[0m     \u001b[38;5;28mstr\u001b[39m(prompt),\n\u001b[0;32m   1264\u001b[0m     \u001b[38;5;28mself\u001b[39m\u001b[38;5;241m.\u001b[39m_parent_ident[\u001b[38;5;124m\"\u001b[39m\u001b[38;5;124mshell\u001b[39m\u001b[38;5;124m\"\u001b[39m],\n\u001b[0;32m   1265\u001b[0m     \u001b[38;5;28mself\u001b[39m\u001b[38;5;241m.\u001b[39mget_parent(\u001b[38;5;124m\"\u001b[39m\u001b[38;5;124mshell\u001b[39m\u001b[38;5;124m\"\u001b[39m),\n\u001b[0;32m   1266\u001b[0m     password\u001b[38;5;241m=\u001b[39m\u001b[38;5;28;01mFalse\u001b[39;00m,\n\u001b[0;32m   1267\u001b[0m )\n",
      "File \u001b[1;32m~\\anaconda3\\Lib\\site-packages\\ipykernel\\kernelbase.py:1305\u001b[0m, in \u001b[0;36mKernel._input_request\u001b[1;34m(self, prompt, ident, parent, password)\u001b[0m\n\u001b[0;32m   1302\u001b[0m \u001b[38;5;28;01mexcept\u001b[39;00m \u001b[38;5;167;01mKeyboardInterrupt\u001b[39;00m:\n\u001b[0;32m   1303\u001b[0m     \u001b[38;5;66;03m# re-raise KeyboardInterrupt, to truncate traceback\u001b[39;00m\n\u001b[0;32m   1304\u001b[0m     msg \u001b[38;5;241m=\u001b[39m \u001b[38;5;124m\"\u001b[39m\u001b[38;5;124mInterrupted by user\u001b[39m\u001b[38;5;124m\"\u001b[39m\n\u001b[1;32m-> 1305\u001b[0m     \u001b[38;5;28;01mraise\u001b[39;00m \u001b[38;5;167;01mKeyboardInterrupt\u001b[39;00m(msg) \u001b[38;5;28;01mfrom\u001b[39;00m \u001b[38;5;28;01mNone\u001b[39;00m\n\u001b[0;32m   1306\u001b[0m \u001b[38;5;28;01mexcept\u001b[39;00m \u001b[38;5;167;01mException\u001b[39;00m:\n\u001b[0;32m   1307\u001b[0m     \u001b[38;5;28mself\u001b[39m\u001b[38;5;241m.\u001b[39mlog\u001b[38;5;241m.\u001b[39mwarning(\u001b[38;5;124m\"\u001b[39m\u001b[38;5;124mInvalid Message:\u001b[39m\u001b[38;5;124m\"\u001b[39m, exc_info\u001b[38;5;241m=\u001b[39m\u001b[38;5;28;01mTrue\u001b[39;00m)\n",
      "\u001b[1;31mKeyboardInterrupt\u001b[0m: Interrupted by user"
     ]
    }
   ],
   "source": [
    "input()"
   ]
  },
  {
   "cell_type": "code",
   "execution_count": 51,
   "id": "97d2421c-98e7-49c3-bd6e-c7f6fa972c84",
   "metadata": {
    "collapsed": true,
    "jupyter": {
     "outputs_hidden": true,
     "source_hidden": true
    },
    "tags": []
   },
   "outputs": [
    {
     "data": {
      "text/plain": [
       "\u001b[1;31mSignature:\u001b[0m\n",
       "\u001b[0mpd\u001b[0m\u001b[1;33m.\u001b[0m\u001b[0mto_datetime\u001b[0m\u001b[1;33m(\u001b[0m\u001b[1;33m\n",
       "\u001b[0m    \u001b[0marg\u001b[0m\u001b[1;33m:\u001b[0m \u001b[1;34m'DatetimeScalarOrArrayConvertible | DictConvertible'\u001b[0m\u001b[1;33m,\u001b[0m\u001b[1;33m\n",
       "\u001b[0m    \u001b[0merrors\u001b[0m\u001b[1;33m:\u001b[0m \u001b[1;34m'DateTimeErrorChoices'\u001b[0m \u001b[1;33m=\u001b[0m \u001b[1;34m'raise'\u001b[0m\u001b[1;33m,\u001b[0m\u001b[1;33m\n",
       "\u001b[0m    \u001b[0mdayfirst\u001b[0m\u001b[1;33m:\u001b[0m \u001b[1;34m'bool'\u001b[0m \u001b[1;33m=\u001b[0m \u001b[1;32mFalse\u001b[0m\u001b[1;33m,\u001b[0m\u001b[1;33m\n",
       "\u001b[0m    \u001b[0myearfirst\u001b[0m\u001b[1;33m:\u001b[0m \u001b[1;34m'bool'\u001b[0m \u001b[1;33m=\u001b[0m \u001b[1;32mFalse\u001b[0m\u001b[1;33m,\u001b[0m\u001b[1;33m\n",
       "\u001b[0m    \u001b[0mutc\u001b[0m\u001b[1;33m:\u001b[0m \u001b[1;34m'bool'\u001b[0m \u001b[1;33m=\u001b[0m \u001b[1;32mFalse\u001b[0m\u001b[1;33m,\u001b[0m\u001b[1;33m\n",
       "\u001b[0m    \u001b[0mformat\u001b[0m\u001b[1;33m:\u001b[0m \u001b[1;34m'str | None'\u001b[0m \u001b[1;33m=\u001b[0m \u001b[1;32mNone\u001b[0m\u001b[1;33m,\u001b[0m\u001b[1;33m\n",
       "\u001b[0m    \u001b[0mexact\u001b[0m\u001b[1;33m:\u001b[0m \u001b[1;34m'bool | lib.NoDefault'\u001b[0m \u001b[1;33m=\u001b[0m \u001b[1;33m<\u001b[0m\u001b[0mno_default\u001b[0m\u001b[1;33m>\u001b[0m\u001b[1;33m,\u001b[0m\u001b[1;33m\n",
       "\u001b[0m    \u001b[0munit\u001b[0m\u001b[1;33m:\u001b[0m \u001b[1;34m'str | None'\u001b[0m \u001b[1;33m=\u001b[0m \u001b[1;32mNone\u001b[0m\u001b[1;33m,\u001b[0m\u001b[1;33m\n",
       "\u001b[0m    \u001b[0minfer_datetime_format\u001b[0m\u001b[1;33m:\u001b[0m \u001b[1;34m'lib.NoDefault | bool'\u001b[0m \u001b[1;33m=\u001b[0m \u001b[1;33m<\u001b[0m\u001b[0mno_default\u001b[0m\u001b[1;33m>\u001b[0m\u001b[1;33m,\u001b[0m\u001b[1;33m\n",
       "\u001b[0m    \u001b[0morigin\u001b[0m\u001b[1;33m:\u001b[0m \u001b[1;34m'str'\u001b[0m \u001b[1;33m=\u001b[0m \u001b[1;34m'unix'\u001b[0m\u001b[1;33m,\u001b[0m\u001b[1;33m\n",
       "\u001b[0m    \u001b[0mcache\u001b[0m\u001b[1;33m:\u001b[0m \u001b[1;34m'bool'\u001b[0m \u001b[1;33m=\u001b[0m \u001b[1;32mTrue\u001b[0m\u001b[1;33m,\u001b[0m\u001b[1;33m\n",
       "\u001b[0m\u001b[1;33m)\u001b[0m \u001b[1;33m->\u001b[0m \u001b[1;34m'DatetimeIndex | Series | DatetimeScalar | NaTType | None'\u001b[0m\u001b[1;33m\u001b[0m\u001b[1;33m\u001b[0m\u001b[0m\n",
       "\u001b[1;31mDocstring:\u001b[0m\n",
       "Convert argument to datetime.\n",
       "\n",
       "This function converts a scalar, array-like, :class:`Series` or\n",
       ":class:`DataFrame`/dict-like to a pandas datetime object.\n",
       "\n",
       "Parameters\n",
       "----------\n",
       "arg : int, float, str, datetime, list, tuple, 1-d array, Series, DataFrame/dict-like\n",
       "    The object to convert to a datetime. If a :class:`DataFrame` is provided, the\n",
       "    method expects minimally the following columns: :const:`\"year\"`,\n",
       "    :const:`\"month\"`, :const:`\"day\"`. The column \"year\"\n",
       "    must be specified in 4-digit format.\n",
       "errors : {'ignore', 'raise', 'coerce'}, default 'raise'\n",
       "    - If :const:`'raise'`, then invalid parsing will raise an exception.\n",
       "    - If :const:`'coerce'`, then invalid parsing will be set as :const:`NaT`.\n",
       "    - If :const:`'ignore'`, then invalid parsing will return the input.\n",
       "dayfirst : bool, default False\n",
       "    Specify a date parse order if `arg` is str or is list-like.\n",
       "    If :const:`True`, parses dates with the day first, e.g. :const:`\"10/11/12\"`\n",
       "    is parsed as :const:`2012-11-10`.\n",
       "\n",
       "    .. warning::\n",
       "\n",
       "        ``dayfirst=True`` is not strict, but will prefer to parse\n",
       "        with day first.\n",
       "\n",
       "yearfirst : bool, default False\n",
       "    Specify a date parse order if `arg` is str or is list-like.\n",
       "\n",
       "    - If :const:`True` parses dates with the year first, e.g.\n",
       "      :const:`\"10/11/12\"` is parsed as :const:`2010-11-12`.\n",
       "    - If both `dayfirst` and `yearfirst` are :const:`True`, `yearfirst` is\n",
       "      preceded (same as :mod:`dateutil`).\n",
       "\n",
       "    .. warning::\n",
       "\n",
       "        ``yearfirst=True`` is not strict, but will prefer to parse\n",
       "        with year first.\n",
       "\n",
       "utc : bool, default False\n",
       "    Control timezone-related parsing, localization and conversion.\n",
       "\n",
       "    - If :const:`True`, the function *always* returns a timezone-aware\n",
       "      UTC-localized :class:`Timestamp`, :class:`Series` or\n",
       "      :class:`DatetimeIndex`. To do this, timezone-naive inputs are\n",
       "      *localized* as UTC, while timezone-aware inputs are *converted* to UTC.\n",
       "\n",
       "    - If :const:`False` (default), inputs will not be coerced to UTC.\n",
       "      Timezone-naive inputs will remain naive, while timezone-aware ones\n",
       "      will keep their time offsets. Limitations exist for mixed\n",
       "      offsets (typically, daylight savings), see :ref:`Examples\n",
       "      <to_datetime_tz_examples>` section for details.\n",
       "\n",
       "    .. warning::\n",
       "\n",
       "        In a future version of pandas, parsing datetimes with mixed time\n",
       "        zones will raise an error unless `utc=True`.\n",
       "        Please specify `utc=True` to opt in to the new behaviour\n",
       "        and silence this warning. To create a `Series` with mixed offsets and\n",
       "        `object` dtype, please use `apply` and `datetime.datetime.strptime`.\n",
       "\n",
       "    See also: pandas general documentation about `timezone conversion and\n",
       "    localization\n",
       "    <https://pandas.pydata.org/pandas-docs/stable/user_guide/timeseries.html\n",
       "    #time-zone-handling>`_.\n",
       "\n",
       "format : str, default None\n",
       "    The strftime to parse time, e.g. :const:`\"%d/%m/%Y\"`. See\n",
       "    `strftime documentation\n",
       "    <https://docs.python.org/3/library/datetime.html\n",
       "    #strftime-and-strptime-behavior>`_ for more information on choices, though\n",
       "    note that :const:`\"%f\"` will parse all the way up to nanoseconds.\n",
       "    You can also pass:\n",
       "\n",
       "    - \"ISO8601\", to parse any `ISO8601 <https://en.wikipedia.org/wiki/ISO_8601>`_\n",
       "      time string (not necessarily in exactly the same format);\n",
       "    - \"mixed\", to infer the format for each element individually. This is risky,\n",
       "      and you should probably use it along with `dayfirst`.\n",
       "\n",
       "    .. note::\n",
       "\n",
       "        If a :class:`DataFrame` is passed, then `format` has no effect.\n",
       "\n",
       "exact : bool, default True\n",
       "    Control how `format` is used:\n",
       "\n",
       "    - If :const:`True`, require an exact `format` match.\n",
       "    - If :const:`False`, allow the `format` to match anywhere in the target\n",
       "      string.\n",
       "\n",
       "    Cannot be used alongside ``format='ISO8601'`` or ``format='mixed'``.\n",
       "unit : str, default 'ns'\n",
       "    The unit of the arg (D,s,ms,us,ns) denote the unit, which is an\n",
       "    integer or float number. This will be based off the origin.\n",
       "    Example, with ``unit='ms'`` and ``origin='unix'``, this would calculate\n",
       "    the number of milliseconds to the unix epoch start.\n",
       "infer_datetime_format : bool, default False\n",
       "    If :const:`True` and no `format` is given, attempt to infer the format\n",
       "    of the datetime strings based on the first non-NaN element,\n",
       "    and if it can be inferred, switch to a faster method of parsing them.\n",
       "    In some cases this can increase the parsing speed by ~5-10x.\n",
       "\n",
       "    .. deprecated:: 2.0.0\n",
       "        A strict version of this argument is now the default, passing it has\n",
       "        no effect.\n",
       "\n",
       "origin : scalar, default 'unix'\n",
       "    Define the reference date. The numeric values would be parsed as number\n",
       "    of units (defined by `unit`) since this reference date.\n",
       "\n",
       "    - If :const:`'unix'` (or POSIX) time; origin is set to 1970-01-01.\n",
       "    - If :const:`'julian'`, unit must be :const:`'D'`, and origin is set to\n",
       "      beginning of Julian Calendar. Julian day number :const:`0` is assigned\n",
       "      to the day starting at noon on January 1, 4713 BC.\n",
       "    - If Timestamp convertible (Timestamp, dt.datetime, np.datetimt64 or date\n",
       "      string), origin is set to Timestamp identified by origin.\n",
       "    - If a float or integer, origin is the millisecond difference\n",
       "      relative to 1970-01-01.\n",
       "cache : bool, default True\n",
       "    If :const:`True`, use a cache of unique, converted dates to apply the\n",
       "    datetime conversion. May produce significant speed-up when parsing\n",
       "    duplicate date strings, especially ones with timezone offsets. The cache\n",
       "    is only used when there are at least 50 values. The presence of\n",
       "    out-of-bounds values will render the cache unusable and may slow down\n",
       "    parsing.\n",
       "\n",
       "Returns\n",
       "-------\n",
       "datetime\n",
       "    If parsing succeeded.\n",
       "    Return type depends on input (types in parenthesis correspond to\n",
       "    fallback in case of unsuccessful timezone or out-of-range timestamp\n",
       "    parsing):\n",
       "\n",
       "    - scalar: :class:`Timestamp` (or :class:`datetime.datetime`)\n",
       "    - array-like: :class:`DatetimeIndex` (or :class:`Series` with\n",
       "      :class:`object` dtype containing :class:`datetime.datetime`)\n",
       "    - Series: :class:`Series` of :class:`datetime64` dtype (or\n",
       "      :class:`Series` of :class:`object` dtype containing\n",
       "      :class:`datetime.datetime`)\n",
       "    - DataFrame: :class:`Series` of :class:`datetime64` dtype (or\n",
       "      :class:`Series` of :class:`object` dtype containing\n",
       "      :class:`datetime.datetime`)\n",
       "\n",
       "Raises\n",
       "------\n",
       "ParserError\n",
       "    When parsing a date from string fails.\n",
       "ValueError\n",
       "    When another datetime conversion error happens. For example when one\n",
       "    of 'year', 'month', day' columns is missing in a :class:`DataFrame`, or\n",
       "    when a Timezone-aware :class:`datetime.datetime` is found in an array-like\n",
       "    of mixed time offsets, and ``utc=False``.\n",
       "\n",
       "See Also\n",
       "--------\n",
       "DataFrame.astype : Cast argument to a specified dtype.\n",
       "to_timedelta : Convert argument to timedelta.\n",
       "convert_dtypes : Convert dtypes.\n",
       "\n",
       "Notes\n",
       "-----\n",
       "\n",
       "Many input types are supported, and lead to different output types:\n",
       "\n",
       "- **scalars** can be int, float, str, datetime object (from stdlib :mod:`datetime`\n",
       "  module or :mod:`numpy`). They are converted to :class:`Timestamp` when\n",
       "  possible, otherwise they are converted to :class:`datetime.datetime`.\n",
       "  None/NaN/null scalars are converted to :const:`NaT`.\n",
       "\n",
       "- **array-like** can contain int, float, str, datetime objects. They are\n",
       "  converted to :class:`DatetimeIndex` when possible, otherwise they are\n",
       "  converted to :class:`Index` with :class:`object` dtype, containing\n",
       "  :class:`datetime.datetime`. None/NaN/null entries are converted to\n",
       "  :const:`NaT` in both cases.\n",
       "\n",
       "- **Series** are converted to :class:`Series` with :class:`datetime64`\n",
       "  dtype when possible, otherwise they are converted to :class:`Series` with\n",
       "  :class:`object` dtype, containing :class:`datetime.datetime`. None/NaN/null\n",
       "  entries are converted to :const:`NaT` in both cases.\n",
       "\n",
       "- **DataFrame/dict-like** are converted to :class:`Series` with\n",
       "  :class:`datetime64` dtype. For each row a datetime is created from assembling\n",
       "  the various dataframe columns. Column keys can be common abbreviations\n",
       "  like ['year', 'month', 'day', 'minute', 'second', 'ms', 'us', 'ns']) or\n",
       "  plurals of the same.\n",
       "\n",
       "The following causes are responsible for :class:`datetime.datetime` objects\n",
       "being returned (possibly inside an :class:`Index` or a :class:`Series` with\n",
       ":class:`object` dtype) instead of a proper pandas designated type\n",
       "(:class:`Timestamp`, :class:`DatetimeIndex` or :class:`Series`\n",
       "with :class:`datetime64` dtype):\n",
       "\n",
       "- when any input element is before :const:`Timestamp.min` or after\n",
       "  :const:`Timestamp.max`, see `timestamp limitations\n",
       "  <https://pandas.pydata.org/pandas-docs/stable/user_guide/timeseries.html\n",
       "  #timeseries-timestamp-limits>`_.\n",
       "\n",
       "- when ``utc=False`` (default) and the input is an array-like or\n",
       "  :class:`Series` containing mixed naive/aware datetime, or aware with mixed\n",
       "  time offsets. Note that this happens in the (quite frequent) situation when\n",
       "  the timezone has a daylight savings policy. In that case you may wish to\n",
       "  use ``utc=True``.\n",
       "\n",
       "Examples\n",
       "--------\n",
       "\n",
       "**Handling various input formats**\n",
       "\n",
       "Assembling a datetime from multiple columns of a :class:`DataFrame`. The keys\n",
       "can be common abbreviations like ['year', 'month', 'day', 'minute', 'second',\n",
       "'ms', 'us', 'ns']) or plurals of the same\n",
       "\n",
       ">>> df = pd.DataFrame({'year': [2015, 2016],\n",
       "...                    'month': [2, 3],\n",
       "...                    'day': [4, 5]})\n",
       ">>> pd.to_datetime(df)\n",
       "0   2015-02-04\n",
       "1   2016-03-05\n",
       "dtype: datetime64[ns]\n",
       "\n",
       "Using a unix epoch time\n",
       "\n",
       ">>> pd.to_datetime(1490195805, unit='s')\n",
       "Timestamp('2017-03-22 15:16:45')\n",
       ">>> pd.to_datetime(1490195805433502912, unit='ns')\n",
       "Timestamp('2017-03-22 15:16:45.433502912')\n",
       "\n",
       ".. warning:: For float arg, precision rounding might happen. To prevent\n",
       "    unexpected behavior use a fixed-width exact type.\n",
       "\n",
       "Using a non-unix epoch origin\n",
       "\n",
       ">>> pd.to_datetime([1, 2, 3], unit='D',\n",
       "...                origin=pd.Timestamp('1960-01-01'))\n",
       "DatetimeIndex(['1960-01-02', '1960-01-03', '1960-01-04'],\n",
       "              dtype='datetime64[ns]', freq=None)\n",
       "\n",
       "**Differences with strptime behavior**\n",
       "\n",
       ":const:`\"%f\"` will parse all the way up to nanoseconds.\n",
       "\n",
       ">>> pd.to_datetime('2018-10-26 12:00:00.0000000011',\n",
       "...                format='%Y-%m-%d %H:%M:%S.%f')\n",
       "Timestamp('2018-10-26 12:00:00.000000001')\n",
       "\n",
       "**Non-convertible date/times**\n",
       "\n",
       "If a date does not meet the `timestamp limitations\n",
       "<https://pandas.pydata.org/pandas-docs/stable/user_guide/timeseries.html\n",
       "#timeseries-timestamp-limits>`_, passing ``errors='ignore'``\n",
       "will return the original input instead of raising any exception.\n",
       "\n",
       "Passing ``errors='coerce'`` will force an out-of-bounds date to :const:`NaT`,\n",
       "in addition to forcing non-dates (or non-parseable dates) to :const:`NaT`.\n",
       "\n",
       ">>> pd.to_datetime('13000101', format='%Y%m%d', errors='ignore')\n",
       "'13000101'\n",
       ">>> pd.to_datetime('13000101', format='%Y%m%d', errors='coerce')\n",
       "NaT\n",
       "\n",
       ".. _to_datetime_tz_examples:\n",
       "\n",
       "**Timezones and time offsets**\n",
       "\n",
       "The default behaviour (``utc=False``) is as follows:\n",
       "\n",
       "- Timezone-naive inputs are converted to timezone-naive :class:`DatetimeIndex`:\n",
       "\n",
       ">>> pd.to_datetime(['2018-10-26 12:00:00', '2018-10-26 13:00:15'])\n",
       "DatetimeIndex(['2018-10-26 12:00:00', '2018-10-26 13:00:15'],\n",
       "              dtype='datetime64[ns]', freq=None)\n",
       "\n",
       "- Timezone-aware inputs *with constant time offset* are converted to\n",
       "  timezone-aware :class:`DatetimeIndex`:\n",
       "\n",
       ">>> pd.to_datetime(['2018-10-26 12:00 -0500', '2018-10-26 13:00 -0500'])\n",
       "DatetimeIndex(['2018-10-26 12:00:00-05:00', '2018-10-26 13:00:00-05:00'],\n",
       "              dtype='datetime64[ns, UTC-05:00]', freq=None)\n",
       "\n",
       "- However, timezone-aware inputs *with mixed time offsets* (for example\n",
       "  issued from a timezone with daylight savings, such as Europe/Paris)\n",
       "  are **not successfully converted** to a :class:`DatetimeIndex`.\n",
       "  Parsing datetimes with mixed time zones will show a warning unless\n",
       "  `utc=True`. If you specify `utc=False` the warning below will be shown\n",
       "  and a simple :class:`Index` containing :class:`datetime.datetime`\n",
       "  objects will be returned:\n",
       "\n",
       ">>> pd.to_datetime(['2020-10-25 02:00 +0200',\n",
       "...                 '2020-10-25 04:00 +0100'])  # doctest: +SKIP\n",
       "FutureWarning: In a future version of pandas, parsing datetimes with mixed\n",
       "time zones will raise an error unless `utc=True`. Please specify `utc=True`\n",
       "to opt in to the new behaviour and silence this warning. To create a `Series`\n",
       "with mixed offsets and `object` dtype, please use `apply` and\n",
       "`datetime.datetime.strptime`.\n",
       "Index([2020-10-25 02:00:00+02:00, 2020-10-25 04:00:00+01:00],\n",
       "      dtype='object')\n",
       "\n",
       "- A mix of timezone-aware and timezone-naive inputs is also converted to\n",
       "  a simple :class:`Index` containing :class:`datetime.datetime` objects:\n",
       "\n",
       ">>> from datetime import datetime\n",
       ">>> pd.to_datetime([\"2020-01-01 01:00:00-01:00\",\n",
       "...                 datetime(2020, 1, 1, 3, 0)])  # doctest: +SKIP\n",
       "FutureWarning: In a future version of pandas, parsing datetimes with mixed\n",
       "time zones will raise an error unless `utc=True`. Please specify `utc=True`\n",
       "to opt in to the new behaviour and silence this warning. To create a `Series`\n",
       "with mixed offsets and `object` dtype, please use `apply` and\n",
       "`datetime.datetime.strptime`.\n",
       "Index([2020-01-01 01:00:00-01:00, 2020-01-01 03:00:00], dtype='object')\n",
       "\n",
       "|\n",
       "\n",
       "Setting ``utc=True`` solves most of the above issues:\n",
       "\n",
       "- Timezone-naive inputs are *localized* as UTC\n",
       "\n",
       ">>> pd.to_datetime(['2018-10-26 12:00', '2018-10-26 13:00'], utc=True)\n",
       "DatetimeIndex(['2018-10-26 12:00:00+00:00', '2018-10-26 13:00:00+00:00'],\n",
       "              dtype='datetime64[ns, UTC]', freq=None)\n",
       "\n",
       "- Timezone-aware inputs are *converted* to UTC (the output represents the\n",
       "  exact same datetime, but viewed from the UTC time offset `+00:00`).\n",
       "\n",
       ">>> pd.to_datetime(['2018-10-26 12:00 -0530', '2018-10-26 12:00 -0500'],\n",
       "...                utc=True)\n",
       "DatetimeIndex(['2018-10-26 17:30:00+00:00', '2018-10-26 17:00:00+00:00'],\n",
       "              dtype='datetime64[ns, UTC]', freq=None)\n",
       "\n",
       "- Inputs can contain both string or datetime, the above\n",
       "  rules still apply\n",
       "\n",
       ">>> pd.to_datetime(['2018-10-26 12:00', datetime(2020, 1, 1, 18)], utc=True)\n",
       "DatetimeIndex(['2018-10-26 12:00:00+00:00', '2020-01-01 18:00:00+00:00'],\n",
       "              dtype='datetime64[ns, UTC]', freq=None)\n",
       "\u001b[1;31mFile:\u001b[0m      c:\\users\\mg-laptop\\anaconda3\\lib\\site-packages\\pandas\\core\\tools\\datetimes.py\n",
       "\u001b[1;31mType:\u001b[0m      function"
      ]
     },
     "metadata": {},
     "output_type": "display_data"
    }
   ],
   "source": [
    "'''\n",
    "Assembling a datetime from multiple columns of a :class:`DataFrame`. The keys\n",
    "can be common abbreviations like ['year', 'month', 'day', 'minute', 'second',\n",
    "'ms', 'us', 'ns']) or plurals of the same\n",
    "\n",
    ">>> df = pd.DataFrame({'year': [2015, 2016],\n",
    "...                    'month': [2, 3],\n",
    "...                    'day': [4, 5]})\n",
    ">>> pd.to_datetime(df)\n",
    "0   2015-02-04\n",
    "1   2016-03-05\n",
    "'''\n",
    "\n",
    "\n",
    "#joltsData['date'] = date(joltsData.year, joltsData.period)\n",
    "\n",
    "#dir(joltsData)\n",
    "#joltsData['date']\n",
    "pd.to_datetime({'year': joltsData.year,\n",
    "                'month': joltsData.period})\n",
    "\n",
    "#joltsData.head()\n",
    "\n"
   ]
  },
  {
   "cell_type": "code",
   "execution_count": 95,
   "id": "84b97b6e-dcdf-4465-9a69-12cceaf74dc8",
   "metadata": {
    "tags": []
   },
   "outputs": [
    {
     "data": {
      "text/plain": [
       "0         1\n",
       "1         1\n",
       "2         1\n",
       "3         1\n",
       "4         1\n",
       "         ..\n",
       "105563    1\n",
       "105564    1\n",
       "105565    1\n",
       "105566    1\n",
       "105567    1\n",
       "Length: 105568, dtype: int64"
      ]
     },
     "execution_count": 95,
     "metadata": {},
     "output_type": "execute_result"
    }
   ],
   "source": []
  },
  {
   "cell_type": "code",
   "execution_count": 99,
   "id": "db415ccd-3074-4d0b-be27-bb085fbb86f9",
   "metadata": {
    "tags": []
   },
   "outputs": [
    {
     "ename": "ValueError",
     "evalue": "cannot assemble the datetimes: unconverted data remains when parsing with format \"%Y%m%d\": \"1\", at position 287. You might want to try:\n    - passing `format` if your strings have a consistent format;\n    - passing `format='ISO8601'` if your strings are all ISO8601 but not necessarily in exactly the same format;\n    - passing `format='mixed'`, and the format will be inferred for each element individually. You might want to use `dayfirst` alongside this.",
     "output_type": "error",
     "traceback": [
      "\u001b[1;31m---------------------------------------------------------------------------\u001b[0m",
      "\u001b[1;31mValueError\u001b[0m                                Traceback (most recent call last)",
      "File \u001b[1;32m~\\anaconda3\\Lib\\site-packages\\pandas\\core\\tools\\datetimes.py:1259\u001b[0m, in \u001b[0;36m_assemble_from_unit_mappings\u001b[1;34m(arg, errors, utc)\u001b[0m\n\u001b[0;32m   1258\u001b[0m \u001b[38;5;28;01mtry\u001b[39;00m:\n\u001b[1;32m-> 1259\u001b[0m     values \u001b[38;5;241m=\u001b[39m to_datetime(values, \u001b[38;5;28mformat\u001b[39m\u001b[38;5;241m=\u001b[39m\u001b[38;5;124m\"\u001b[39m\u001b[38;5;124m%\u001b[39m\u001b[38;5;124mY\u001b[39m\u001b[38;5;124m%\u001b[39m\u001b[38;5;124mm\u001b[39m\u001b[38;5;132;01m%d\u001b[39;00m\u001b[38;5;124m\"\u001b[39m, errors\u001b[38;5;241m=\u001b[39merrors, utc\u001b[38;5;241m=\u001b[39mutc)\n\u001b[0;32m   1260\u001b[0m \u001b[38;5;28;01mexcept\u001b[39;00m (\u001b[38;5;167;01mTypeError\u001b[39;00m, \u001b[38;5;167;01mValueError\u001b[39;00m) \u001b[38;5;28;01mas\u001b[39;00m err:\n",
      "File \u001b[1;32m~\\anaconda3\\Lib\\site-packages\\pandas\\core\\tools\\datetimes.py:1108\u001b[0m, in \u001b[0;36mto_datetime\u001b[1;34m(arg, errors, dayfirst, yearfirst, utc, format, exact, unit, infer_datetime_format, origin, cache)\u001b[0m\n\u001b[0;32m   1107\u001b[0m \u001b[38;5;28;01melif\u001b[39;00m \u001b[38;5;28misinstance\u001b[39m(arg, ABCSeries):\n\u001b[1;32m-> 1108\u001b[0m     cache_array \u001b[38;5;241m=\u001b[39m _maybe_cache(arg, \u001b[38;5;28mformat\u001b[39m, cache, convert_listlike)\n\u001b[0;32m   1109\u001b[0m     \u001b[38;5;28;01mif\u001b[39;00m \u001b[38;5;129;01mnot\u001b[39;00m cache_array\u001b[38;5;241m.\u001b[39mempty:\n",
      "File \u001b[1;32m~\\anaconda3\\Lib\\site-packages\\pandas\\core\\tools\\datetimes.py:254\u001b[0m, in \u001b[0;36m_maybe_cache\u001b[1;34m(arg, format, cache, convert_listlike)\u001b[0m\n\u001b[0;32m    253\u001b[0m \u001b[38;5;28;01mif\u001b[39;00m \u001b[38;5;28mlen\u001b[39m(unique_dates) \u001b[38;5;241m<\u001b[39m \u001b[38;5;28mlen\u001b[39m(arg):\n\u001b[1;32m--> 254\u001b[0m     cache_dates \u001b[38;5;241m=\u001b[39m convert_listlike(unique_dates, \u001b[38;5;28mformat\u001b[39m)\n\u001b[0;32m    255\u001b[0m     \u001b[38;5;66;03m# GH#45319\u001b[39;00m\n",
      "File \u001b[1;32m~\\anaconda3\\Lib\\site-packages\\pandas\\core\\tools\\datetimes.py:488\u001b[0m, in \u001b[0;36m_convert_listlike_datetimes\u001b[1;34m(arg, format, name, utc, unit, errors, dayfirst, yearfirst, exact)\u001b[0m\n\u001b[0;32m    487\u001b[0m \u001b[38;5;28;01mif\u001b[39;00m \u001b[38;5;28mformat\u001b[39m \u001b[38;5;129;01mis\u001b[39;00m \u001b[38;5;129;01mnot\u001b[39;00m \u001b[38;5;28;01mNone\u001b[39;00m \u001b[38;5;129;01mand\u001b[39;00m \u001b[38;5;28mformat\u001b[39m \u001b[38;5;241m!=\u001b[39m \u001b[38;5;124m\"\u001b[39m\u001b[38;5;124mmixed\u001b[39m\u001b[38;5;124m\"\u001b[39m:\n\u001b[1;32m--> 488\u001b[0m     \u001b[38;5;28;01mreturn\u001b[39;00m _array_strptime_with_fallback(arg, name, utc, \u001b[38;5;28mformat\u001b[39m, exact, errors)\n\u001b[0;32m    490\u001b[0m result, tz_parsed \u001b[38;5;241m=\u001b[39m objects_to_datetime64ns(\n\u001b[0;32m    491\u001b[0m     arg,\n\u001b[0;32m    492\u001b[0m     dayfirst\u001b[38;5;241m=\u001b[39mdayfirst,\n\u001b[1;32m   (...)\u001b[0m\n\u001b[0;32m    496\u001b[0m     allow_object\u001b[38;5;241m=\u001b[39m\u001b[38;5;28;01mTrue\u001b[39;00m,\n\u001b[0;32m    497\u001b[0m )\n",
      "File \u001b[1;32m~\\anaconda3\\Lib\\site-packages\\pandas\\core\\tools\\datetimes.py:519\u001b[0m, in \u001b[0;36m_array_strptime_with_fallback\u001b[1;34m(arg, name, utc, fmt, exact, errors)\u001b[0m\n\u001b[0;32m    516\u001b[0m \u001b[38;5;250m\u001b[39m\u001b[38;5;124;03m\"\"\"\u001b[39;00m\n\u001b[0;32m    517\u001b[0m \u001b[38;5;124;03mCall array_strptime, with fallback behavior depending on 'errors'.\u001b[39;00m\n\u001b[0;32m    518\u001b[0m \u001b[38;5;124;03m\"\"\"\u001b[39;00m\n\u001b[1;32m--> 519\u001b[0m result, timezones \u001b[38;5;241m=\u001b[39m array_strptime(arg, fmt, exact\u001b[38;5;241m=\u001b[39mexact, errors\u001b[38;5;241m=\u001b[39merrors, utc\u001b[38;5;241m=\u001b[39mutc)\n\u001b[0;32m    520\u001b[0m \u001b[38;5;28;01mif\u001b[39;00m \u001b[38;5;28many\u001b[39m(tz \u001b[38;5;129;01mis\u001b[39;00m \u001b[38;5;129;01mnot\u001b[39;00m \u001b[38;5;28;01mNone\u001b[39;00m \u001b[38;5;28;01mfor\u001b[39;00m tz \u001b[38;5;129;01min\u001b[39;00m timezones):\n",
      "File \u001b[1;32mstrptime.pyx:534\u001b[0m, in \u001b[0;36mpandas._libs.tslibs.strptime.array_strptime\u001b[1;34m()\u001b[0m\n",
      "File \u001b[1;32mstrptime.pyx:359\u001b[0m, in \u001b[0;36mpandas._libs.tslibs.strptime.array_strptime\u001b[1;34m()\u001b[0m\n",
      "\u001b[1;31mValueError\u001b[0m: unconverted data remains when parsing with format \"%Y%m%d\": \"1\", at position 287. You might want to try:\n    - passing `format` if your strings have a consistent format;\n    - passing `format='ISO8601'` if your strings are all ISO8601 but not necessarily in exactly the same format;\n    - passing `format='mixed'`, and the format will be inferred for each element individually. You might want to use `dayfirst` alongside this.",
      "\nThe above exception was the direct cause of the following exception:\n",
      "\u001b[1;31mValueError\u001b[0m                                Traceback (most recent call last)",
      "Cell \u001b[1;32mIn[99], line 9\u001b[0m\n\u001b[0;32m      6\u001b[0m dfMonths \u001b[38;5;241m=\u001b[39m joltsData\u001b[38;5;241m.\u001b[39mperiod\u001b[38;5;241m.\u001b[39mreplace({\u001b[38;5;124m'\u001b[39m\u001b[38;5;124mM\u001b[39m\u001b[38;5;124m'\u001b[39m:\u001b[38;5;124m'\u001b[39m\u001b[38;5;124m'\u001b[39m}, regex\u001b[38;5;241m=\u001b[39m\u001b[38;5;28;01mTrue\u001b[39;00m)\n\u001b[0;32m      7\u001b[0m dfYears \u001b[38;5;241m=\u001b[39m joltsData\u001b[38;5;241m.\u001b[39myear\n\u001b[1;32m----> 9\u001b[0m pd\u001b[38;5;241m.\u001b[39mto_datetime({\u001b[38;5;124m'\u001b[39m\u001b[38;5;124myear\u001b[39m\u001b[38;5;124m'\u001b[39m : dfYears,\n\u001b[0;32m     10\u001b[0m                 \u001b[38;5;124m'\u001b[39m\u001b[38;5;124mmonth\u001b[39m\u001b[38;5;124m'\u001b[39m: dfMonths,\n\u001b[0;32m     11\u001b[0m                 \u001b[38;5;124m'\u001b[39m\u001b[38;5;124mday\u001b[39m\u001b[38;5;124m'\u001b[39m  : pd\u001b[38;5;241m.\u001b[39mSeries([\u001b[38;5;241m1\u001b[39m] \u001b[38;5;241m*\u001b[39m \u001b[38;5;241m105568\u001b[39m)})\n",
      "File \u001b[1;32m~\\anaconda3\\Lib\\site-packages\\pandas\\core\\tools\\datetimes.py:1115\u001b[0m, in \u001b[0;36mto_datetime\u001b[1;34m(arg, errors, dayfirst, yearfirst, utc, format, exact, unit, infer_datetime_format, origin, cache)\u001b[0m\n\u001b[0;32m   1113\u001b[0m         result \u001b[38;5;241m=\u001b[39m arg\u001b[38;5;241m.\u001b[39m_constructor(values, index\u001b[38;5;241m=\u001b[39marg\u001b[38;5;241m.\u001b[39mindex, name\u001b[38;5;241m=\u001b[39marg\u001b[38;5;241m.\u001b[39mname)\n\u001b[0;32m   1114\u001b[0m \u001b[38;5;28;01melif\u001b[39;00m \u001b[38;5;28misinstance\u001b[39m(arg, (ABCDataFrame, abc\u001b[38;5;241m.\u001b[39mMutableMapping)):\n\u001b[1;32m-> 1115\u001b[0m     result \u001b[38;5;241m=\u001b[39m _assemble_from_unit_mappings(arg, errors, utc)\n\u001b[0;32m   1116\u001b[0m \u001b[38;5;28;01melif\u001b[39;00m \u001b[38;5;28misinstance\u001b[39m(arg, Index):\n\u001b[0;32m   1117\u001b[0m     cache_array \u001b[38;5;241m=\u001b[39m _maybe_cache(arg, \u001b[38;5;28mformat\u001b[39m, cache, convert_listlike)\n",
      "File \u001b[1;32m~\\anaconda3\\Lib\\site-packages\\pandas\\core\\tools\\datetimes.py:1261\u001b[0m, in \u001b[0;36m_assemble_from_unit_mappings\u001b[1;34m(arg, errors, utc)\u001b[0m\n\u001b[0;32m   1259\u001b[0m     values \u001b[38;5;241m=\u001b[39m to_datetime(values, \u001b[38;5;28mformat\u001b[39m\u001b[38;5;241m=\u001b[39m\u001b[38;5;124m\"\u001b[39m\u001b[38;5;124m%\u001b[39m\u001b[38;5;124mY\u001b[39m\u001b[38;5;124m%\u001b[39m\u001b[38;5;124mm\u001b[39m\u001b[38;5;132;01m%d\u001b[39;00m\u001b[38;5;124m\"\u001b[39m, errors\u001b[38;5;241m=\u001b[39merrors, utc\u001b[38;5;241m=\u001b[39mutc)\n\u001b[0;32m   1260\u001b[0m \u001b[38;5;28;01mexcept\u001b[39;00m (\u001b[38;5;167;01mTypeError\u001b[39;00m, \u001b[38;5;167;01mValueError\u001b[39;00m) \u001b[38;5;28;01mas\u001b[39;00m err:\n\u001b[1;32m-> 1261\u001b[0m     \u001b[38;5;28;01mraise\u001b[39;00m \u001b[38;5;167;01mValueError\u001b[39;00m(\u001b[38;5;124mf\u001b[39m\u001b[38;5;124m\"\u001b[39m\u001b[38;5;124mcannot assemble the datetimes: \u001b[39m\u001b[38;5;132;01m{\u001b[39;00merr\u001b[38;5;132;01m}\u001b[39;00m\u001b[38;5;124m\"\u001b[39m) \u001b[38;5;28;01mfrom\u001b[39;00m \u001b[38;5;21;01merr\u001b[39;00m\n\u001b[0;32m   1263\u001b[0m units: \u001b[38;5;28mlist\u001b[39m[UnitChoices] \u001b[38;5;241m=\u001b[39m [\u001b[38;5;124m\"\u001b[39m\u001b[38;5;124mh\u001b[39m\u001b[38;5;124m\"\u001b[39m, \u001b[38;5;124m\"\u001b[39m\u001b[38;5;124mm\u001b[39m\u001b[38;5;124m\"\u001b[39m, \u001b[38;5;124m\"\u001b[39m\u001b[38;5;124ms\u001b[39m\u001b[38;5;124m\"\u001b[39m, \u001b[38;5;124m\"\u001b[39m\u001b[38;5;124mms\u001b[39m\u001b[38;5;124m\"\u001b[39m, \u001b[38;5;124m\"\u001b[39m\u001b[38;5;124mus\u001b[39m\u001b[38;5;124m\"\u001b[39m, \u001b[38;5;124m\"\u001b[39m\u001b[38;5;124mns\u001b[39m\u001b[38;5;124m\"\u001b[39m]\n\u001b[0;32m   1264\u001b[0m \u001b[38;5;28;01mfor\u001b[39;00m u \u001b[38;5;129;01min\u001b[39;00m units:\n",
      "\u001b[1;31mValueError\u001b[0m: cannot assemble the datetimes: unconverted data remains when parsing with format \"%Y%m%d\": \"1\", at position 287. You might want to try:\n    - passing `format` if your strings have a consistent format;\n    - passing `format='ISO8601'` if your strings are all ISO8601 but not necessarily in exactly the same format;\n    - passing `format='mixed'`, and the format will be inferred for each element individually. You might want to use `dayfirst` alongside this."
     ]
    }
   ],
   "source": [
    "'''\n",
    "df[cols_to_check] = df[cols_to_check].replace({';':''}, regex=True)\n",
    "\n",
    "'''\n",
    "\n",
    "dfMonths = joltsData.period.replace({'M':''}, regex=True)\n",
    "dfYears = joltsData.year\n",
    "\n",
    "pd.to_datetime({'year' : dfYears,\n",
    "                'month': dfMonths,\n",
    "                'day'  : pd.Series([1] * 105568)})\n",
    "#joltsData\n",
    "\n",
    "\n",
    "\n"
   ]
  },
  {
   "cell_type": "code",
   "execution_count": 67,
   "id": "441717a0-4881-46f5-ab68-ddd7d39064cf",
   "metadata": {
    "tags": []
   },
   "outputs": [
    {
     "data": {
      "text/plain": [
       "0         2000\n",
       "1         2001\n",
       "2         2001\n",
       "3         2001\n",
       "4         2001\n",
       "          ... \n",
       "105629    2024\n",
       "105630    2024\n",
       "105631    2024\n",
       "105632    2024\n",
       "105633    2024\n",
       "Name: year, Length: 105568, dtype: int64"
      ]
     },
     "execution_count": 67,
     "metadata": {},
     "output_type": "execute_result"
    }
   ],
   "source": [
    "dfYears\n",
    "\n"
   ]
  },
  {
   "cell_type": "code",
   "execution_count": 16,
   "id": "ac87f87e-48e4-4b19-ae7a-66d1c62054ef",
   "metadata": {
    "tags": []
   },
   "outputs": [
    {
     "data": {
      "text/html": [
       "<div>\n",
       "<style scoped>\n",
       "    .dataframe tbody tr th:only-of-type {\n",
       "        vertical-align: middle;\n",
       "    }\n",
       "\n",
       "    .dataframe tbody tr th {\n",
       "        vertical-align: top;\n",
       "    }\n",
       "\n",
       "    .dataframe thead th {\n",
       "        text-align: right;\n",
       "    }\n",
       "</style>\n",
       "<table border=\"1\" class=\"dataframe\">\n",
       "  <thead>\n",
       "    <tr style=\"text-align: right;\">\n",
       "      <th></th>\n",
       "      <th></th>\n",
       "      <th>va</th>\n",
       "    </tr>\n",
       "    <tr>\n",
       "      <th>year</th>\n",
       "      <th>period</th>\n",
       "      <th></th>\n",
       "    </tr>\n",
       "  </thead>\n",
       "  <tbody>\n",
       "    <tr>\n",
       "      <th>2000</th>\n",
       "      <th>M12</th>\n",
       "      <td>5088.0</td>\n",
       "    </tr>\n",
       "    <tr>\n",
       "      <th rowspan=\"4\" valign=\"top\">2001</th>\n",
       "      <th>M01</th>\n",
       "      <td>5234.0</td>\n",
       "    </tr>\n",
       "    <tr>\n",
       "      <th>M02</th>\n",
       "      <td>5097.0</td>\n",
       "    </tr>\n",
       "    <tr>\n",
       "      <th>M03</th>\n",
       "      <td>4762.0</td>\n",
       "    </tr>\n",
       "    <tr>\n",
       "      <th>M04</th>\n",
       "      <td>4615.0</td>\n",
       "    </tr>\n",
       "  </tbody>\n",
       "</table>\n",
       "</div>"
      ],
      "text/plain": [
       "                 va\n",
       "year period        \n",
       "2000 M12     5088.0\n",
       "2001 M01     5234.0\n",
       "     M02     5097.0\n",
       "     M03     4762.0\n",
       "     M04     4615.0"
      ]
     },
     "execution_count": 16,
     "metadata": {},
     "output_type": "execute_result"
    }
   ],
   "source": [
    "\n",
    "# set multi-index Yeand & period\n",
    "#joltsData = joltsData.set_index(['year', 'period'])\n",
    "joltsData.head()"
   ]
  },
  {
   "cell_type": "code",
   "execution_count": 17,
   "id": "38c3a485-04cd-4856-8572-6c077378dcd3",
   "metadata": {
    "tags": []
   },
   "outputs": [
    {
     "ename": "ValueError",
     "evalue": "setting an array element with a sequence.",
     "output_type": "error",
     "traceback": [
      "\u001b[1;31m---------------------------------------------------------------------------\u001b[0m",
      "\u001b[1;31mTypeError\u001b[0m                                 Traceback (most recent call last)",
      "\u001b[1;31mTypeError\u001b[0m: float() argument must be a string or a real number, not 'tuple'",
      "\nThe above exception was the direct cause of the following exception:\n",
      "\u001b[1;31mValueError\u001b[0m                                Traceback (most recent call last)",
      "Cell \u001b[1;32mIn[17], line 3\u001b[0m\n\u001b[0;32m      1\u001b[0m \u001b[38;5;66;03m#plt.plot(joltsData.index, y=joltsData.va)\u001b[39;00m\n\u001b[0;32m      2\u001b[0m \u001b[38;5;66;03m#plt.show()\u001b[39;00m\n\u001b[1;32m----> 3\u001b[0m plt\u001b[38;5;241m.\u001b[39mplot(joltsData)\n\u001b[0;32m      4\u001b[0m plt\u001b[38;5;241m.\u001b[39mshow()\n",
      "File \u001b[1;32m~\\anaconda3\\Lib\\site-packages\\matplotlib\\pyplot.py:3578\u001b[0m, in \u001b[0;36mplot\u001b[1;34m(scalex, scaley, data, *args, **kwargs)\u001b[0m\n\u001b[0;32m   3570\u001b[0m \u001b[38;5;129m@_copy_docstring_and_deprecators\u001b[39m(Axes\u001b[38;5;241m.\u001b[39mplot)\n\u001b[0;32m   3571\u001b[0m \u001b[38;5;28;01mdef\u001b[39;00m \u001b[38;5;21mplot\u001b[39m(\n\u001b[0;32m   3572\u001b[0m     \u001b[38;5;241m*\u001b[39margs: \u001b[38;5;28mfloat\u001b[39m \u001b[38;5;241m|\u001b[39m ArrayLike \u001b[38;5;241m|\u001b[39m \u001b[38;5;28mstr\u001b[39m,\n\u001b[1;32m   (...)\u001b[0m\n\u001b[0;32m   3576\u001b[0m     \u001b[38;5;241m*\u001b[39m\u001b[38;5;241m*\u001b[39mkwargs,\n\u001b[0;32m   3577\u001b[0m ) \u001b[38;5;241m-\u001b[39m\u001b[38;5;241m>\u001b[39m \u001b[38;5;28mlist\u001b[39m[Line2D]:\n\u001b[1;32m-> 3578\u001b[0m     \u001b[38;5;28;01mreturn\u001b[39;00m gca()\u001b[38;5;241m.\u001b[39mplot(\n\u001b[0;32m   3579\u001b[0m         \u001b[38;5;241m*\u001b[39margs,\n\u001b[0;32m   3580\u001b[0m         scalex\u001b[38;5;241m=\u001b[39mscalex,\n\u001b[0;32m   3581\u001b[0m         scaley\u001b[38;5;241m=\u001b[39mscaley,\n\u001b[0;32m   3582\u001b[0m         \u001b[38;5;241m*\u001b[39m\u001b[38;5;241m*\u001b[39m({\u001b[38;5;124m\"\u001b[39m\u001b[38;5;124mdata\u001b[39m\u001b[38;5;124m\"\u001b[39m: data} \u001b[38;5;28;01mif\u001b[39;00m data \u001b[38;5;129;01mis\u001b[39;00m \u001b[38;5;129;01mnot\u001b[39;00m \u001b[38;5;28;01mNone\u001b[39;00m \u001b[38;5;28;01melse\u001b[39;00m {}),\n\u001b[0;32m   3583\u001b[0m         \u001b[38;5;241m*\u001b[39m\u001b[38;5;241m*\u001b[39mkwargs,\n\u001b[0;32m   3584\u001b[0m     )\n",
      "File \u001b[1;32m~\\anaconda3\\Lib\\site-packages\\matplotlib\\axes\\_axes.py:1723\u001b[0m, in \u001b[0;36mAxes.plot\u001b[1;34m(self, scalex, scaley, data, *args, **kwargs)\u001b[0m\n\u001b[0;32m   1721\u001b[0m lines \u001b[38;5;241m=\u001b[39m [\u001b[38;5;241m*\u001b[39m\u001b[38;5;28mself\u001b[39m\u001b[38;5;241m.\u001b[39m_get_lines(\u001b[38;5;28mself\u001b[39m, \u001b[38;5;241m*\u001b[39margs, data\u001b[38;5;241m=\u001b[39mdata, \u001b[38;5;241m*\u001b[39m\u001b[38;5;241m*\u001b[39mkwargs)]\n\u001b[0;32m   1722\u001b[0m \u001b[38;5;28;01mfor\u001b[39;00m line \u001b[38;5;129;01min\u001b[39;00m lines:\n\u001b[1;32m-> 1723\u001b[0m     \u001b[38;5;28mself\u001b[39m\u001b[38;5;241m.\u001b[39madd_line(line)\n\u001b[0;32m   1724\u001b[0m \u001b[38;5;28;01mif\u001b[39;00m scalex:\n\u001b[0;32m   1725\u001b[0m     \u001b[38;5;28mself\u001b[39m\u001b[38;5;241m.\u001b[39m_request_autoscale_view(\u001b[38;5;124m\"\u001b[39m\u001b[38;5;124mx\u001b[39m\u001b[38;5;124m\"\u001b[39m)\n",
      "File \u001b[1;32m~\\anaconda3\\Lib\\site-packages\\matplotlib\\axes\\_base.py:2309\u001b[0m, in \u001b[0;36m_AxesBase.add_line\u001b[1;34m(self, line)\u001b[0m\n\u001b[0;32m   2306\u001b[0m \u001b[38;5;28;01mif\u001b[39;00m line\u001b[38;5;241m.\u001b[39mget_clip_path() \u001b[38;5;129;01mis\u001b[39;00m \u001b[38;5;28;01mNone\u001b[39;00m:\n\u001b[0;32m   2307\u001b[0m     line\u001b[38;5;241m.\u001b[39mset_clip_path(\u001b[38;5;28mself\u001b[39m\u001b[38;5;241m.\u001b[39mpatch)\n\u001b[1;32m-> 2309\u001b[0m \u001b[38;5;28mself\u001b[39m\u001b[38;5;241m.\u001b[39m_update_line_limits(line)\n\u001b[0;32m   2310\u001b[0m \u001b[38;5;28;01mif\u001b[39;00m \u001b[38;5;129;01mnot\u001b[39;00m line\u001b[38;5;241m.\u001b[39mget_label():\n\u001b[0;32m   2311\u001b[0m     line\u001b[38;5;241m.\u001b[39mset_label(\u001b[38;5;124mf\u001b[39m\u001b[38;5;124m'\u001b[39m\u001b[38;5;124m_child\u001b[39m\u001b[38;5;132;01m{\u001b[39;00m\u001b[38;5;28mlen\u001b[39m(\u001b[38;5;28mself\u001b[39m\u001b[38;5;241m.\u001b[39m_children)\u001b[38;5;132;01m}\u001b[39;00m\u001b[38;5;124m'\u001b[39m)\n",
      "File \u001b[1;32m~\\anaconda3\\Lib\\site-packages\\matplotlib\\axes\\_base.py:2332\u001b[0m, in \u001b[0;36m_AxesBase._update_line_limits\u001b[1;34m(self, line)\u001b[0m\n\u001b[0;32m   2328\u001b[0m \u001b[38;5;28;01mdef\u001b[39;00m \u001b[38;5;21m_update_line_limits\u001b[39m(\u001b[38;5;28mself\u001b[39m, line):\n\u001b[0;32m   2329\u001b[0m \u001b[38;5;250m    \u001b[39m\u001b[38;5;124;03m\"\"\"\u001b[39;00m\n\u001b[0;32m   2330\u001b[0m \u001b[38;5;124;03m    Figures out the data limit of the given line, updating self.dataLim.\u001b[39;00m\n\u001b[0;32m   2331\u001b[0m \u001b[38;5;124;03m    \"\"\"\u001b[39;00m\n\u001b[1;32m-> 2332\u001b[0m     path \u001b[38;5;241m=\u001b[39m line\u001b[38;5;241m.\u001b[39mget_path()\n\u001b[0;32m   2333\u001b[0m     \u001b[38;5;28;01mif\u001b[39;00m path\u001b[38;5;241m.\u001b[39mvertices\u001b[38;5;241m.\u001b[39msize \u001b[38;5;241m==\u001b[39m \u001b[38;5;241m0\u001b[39m:\n\u001b[0;32m   2334\u001b[0m         \u001b[38;5;28;01mreturn\u001b[39;00m\n",
      "File \u001b[1;32m~\\anaconda3\\Lib\\site-packages\\matplotlib\\lines.py:1032\u001b[0m, in \u001b[0;36mLine2D.get_path\u001b[1;34m(self)\u001b[0m\n\u001b[0;32m   1030\u001b[0m \u001b[38;5;250m\u001b[39m\u001b[38;5;124;03m\"\"\"Return the `~matplotlib.path.Path` associated with this line.\"\"\"\u001b[39;00m\n\u001b[0;32m   1031\u001b[0m \u001b[38;5;28;01mif\u001b[39;00m \u001b[38;5;28mself\u001b[39m\u001b[38;5;241m.\u001b[39m_invalidy \u001b[38;5;129;01mor\u001b[39;00m \u001b[38;5;28mself\u001b[39m\u001b[38;5;241m.\u001b[39m_invalidx:\n\u001b[1;32m-> 1032\u001b[0m     \u001b[38;5;28mself\u001b[39m\u001b[38;5;241m.\u001b[39mrecache()\n\u001b[0;32m   1033\u001b[0m \u001b[38;5;28;01mreturn\u001b[39;00m \u001b[38;5;28mself\u001b[39m\u001b[38;5;241m.\u001b[39m_path\n",
      "File \u001b[1;32m~\\anaconda3\\Lib\\site-packages\\matplotlib\\lines.py:669\u001b[0m, in \u001b[0;36mLine2D.recache\u001b[1;34m(self, always)\u001b[0m\n\u001b[0;32m    667\u001b[0m \u001b[38;5;28;01mif\u001b[39;00m always \u001b[38;5;129;01mor\u001b[39;00m \u001b[38;5;28mself\u001b[39m\u001b[38;5;241m.\u001b[39m_invalidx:\n\u001b[0;32m    668\u001b[0m     xconv \u001b[38;5;241m=\u001b[39m \u001b[38;5;28mself\u001b[39m\u001b[38;5;241m.\u001b[39mconvert_xunits(\u001b[38;5;28mself\u001b[39m\u001b[38;5;241m.\u001b[39m_xorig)\n\u001b[1;32m--> 669\u001b[0m     x \u001b[38;5;241m=\u001b[39m _to_unmasked_float_array(xconv)\u001b[38;5;241m.\u001b[39mravel()\n\u001b[0;32m    670\u001b[0m \u001b[38;5;28;01melse\u001b[39;00m:\n\u001b[0;32m    671\u001b[0m     x \u001b[38;5;241m=\u001b[39m \u001b[38;5;28mself\u001b[39m\u001b[38;5;241m.\u001b[39m_x\n",
      "File \u001b[1;32m~\\anaconda3\\Lib\\site-packages\\matplotlib\\cbook.py:1345\u001b[0m, in \u001b[0;36m_to_unmasked_float_array\u001b[1;34m(x)\u001b[0m\n\u001b[0;32m   1343\u001b[0m     \u001b[38;5;28;01mreturn\u001b[39;00m np\u001b[38;5;241m.\u001b[39mma\u001b[38;5;241m.\u001b[39masarray(x, \u001b[38;5;28mfloat\u001b[39m)\u001b[38;5;241m.\u001b[39mfilled(np\u001b[38;5;241m.\u001b[39mnan)\n\u001b[0;32m   1344\u001b[0m \u001b[38;5;28;01melse\u001b[39;00m:\n\u001b[1;32m-> 1345\u001b[0m     \u001b[38;5;28;01mreturn\u001b[39;00m np\u001b[38;5;241m.\u001b[39masarray(x, \u001b[38;5;28mfloat\u001b[39m)\n",
      "\u001b[1;31mValueError\u001b[0m: setting an array element with a sequence."
     ]
    },
    {
     "data": {
      "image/png": "[encoded data removed]",
      "text/plain": [
       "<Figure size 640x480 with 1 Axes>"
      ]
     },
     "metadata": {},
     "output_type": "display_data"
    }
   ],
   "source": [
    "#plt.plot(joltsData.index, y=joltsData.va)\n",
    "#plt.show()\n",
    "plt.plot(joltsData)\n",
    "plt.show()"
   ]
  },
  {
   "cell_type": "code",
   "execution_count": null,
   "id": "7a5bd132-6fcb-4525-ade6-78964ed33121",
   "metadata": {
    "tags": []
   },
   "outputs": [],
   "source": [
    "joltsData.index"
   ]
  },
  {
   "cell_type": "markdown",
   "id": "2b64bc37-8a7c-4b71-9e5c-d04d2f97997f",
   "metadata": {
    "tags": []
   },
   "source": [
    "joltsData.plot(marker='.', linestyle='None')"
   ]
  },
  {
   "cell_type": "code",
   "execution_count": null,
   "id": "3146c3d4-0574-4bb8-9e67-36706d17a361",
   "metadata": {
    "tags": []
   },
   "outputs": [],
   "source": [
    "joltsData.index.to"
   ]
  },
  {
   "cell_type": "markdown",
   "id": "d5b666b1-d631-4287-9b43-ccd8a778795b",
   "metadata": {
    "tags": []
   },
   "source": [
    "## Create Narrative\n",
    "Narrative here..."
   ]
  },
  {
   "cell_type": "markdown",
   "id": "289500b5-ab1d-4cd2-8efa-a5e328aece92",
   "metadata": {},
   "source": [
    "## Presentation\n",
    "presentation images and text in this section...\n",
    "\n",
    "> The questions you asked? \\\n",
    "The trends you investigated? \\\n",
    "The resulting visualizations and conclusions?"
   ]
  },
  {
   "cell_type": "markdown",
   "id": "33d63595-af52-4e5f-95b6-c57205db3675",
   "metadata": {},
   "source": [
    "## TODO\n",
    "- scatter plot the data time by values\n",
    "\n",
    "\n",
    "------\n",
    "- read file command (read_fwf) not workng\n",
    "- clean data before EDA\n"
   ]
  }
 ],
 "metadata": {
  "kernelspec": {
   "display_name": "Python 3 (ipykernel)",
   "language": "python",
   "name": "python3"
  },
  "language_info": {
   "codemirror_mode": {
    "name": "ipython",
    "version": 3
   },
   "file_extension": ".py",
   "mimetype": "text/x-python",
   "name": "python",
   "nbconvert_exporter": "python",
   "pygments_lexer": "ipython3",
   "version": "3.11.7"
  }
 },
 "nbformat": 4,
 "nbformat_minor": 5
}
