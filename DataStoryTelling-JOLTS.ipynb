{
 "cells": [
  {
   "cell_type": "markdown",
   "id": "953a53d8-f591-4cd9-bcfa-55b09ee0f279",
   "metadata": {},
   "source": [
    "# Data Storytelling - JOLTS\n",
    "#### _A look at US Job Openings data over time_\n",
    "***\n",
    "_Michael Garber_"
   ]
  },
  {
   "cell_type": "markdown",
   "id": "86185f6c-2289-481f-b58a-fc8dadcbd552",
   "metadata": {
    "tags": []
   },
   "source": [
    "# Table of Contents\n",
    "> 1. Introduce dataset\n",
    "2. Pick Audience\n",
    "3. EDA\n",
    "4. Create Narrative\n",
    "5. Presentation"
   ]
  },
  {
   "cell_type": "markdown",
   "id": "f8b7695e-0bb2-4bc3-a0a9-170ee24b162e",
   "metadata": {},
   "source": [
    "## Introduction\n",
    "\n",
    "- I have chosen to analyze the the ***JOLTS*** dataset\n",
    "\n",
    "- \"The Job Openings and Labor Turnover Survey (JOLTS) program of the Bureau of Labor Statistics (BLS) produces monthly and annual estimates of job openings, hires, and separations for the nation.\"\n",
    "\n",
    "- Goal: share the story told by the recent trends found within. I will specifically focus on the job openings to understand the labor demands.\n",
    "\n",
    "- Data Set\n",
    "> Info URL - https://www.bls.gov/jlt/jltover.htm \\\n",
    "Data URL - https://download.bls.gov/pub/time.series/jt/jt.data.2.JobOpenings \\\n",
    "Data Definitions - https://download.bls.gov/pub/time.series/jt/jt.txt"
   ]
  },
  {
   "cell_type": "markdown",
   "id": "ad080620-9b1f-4728-9273-ddf8c1c5e3d8",
   "metadata": {
    "tags": []
   },
   "source": [
    "## Pick Audience\n",
    "\n",
    "- I have chosen to target a ***non-technical audience***.\n",
    "    - _I will take care to make the findings accessible and interesting._"
   ]
  },
  {
   "cell_type": "markdown",
   "id": "2331a8d8-8765-437d-8dba-24fce9860ef9",
   "metadata": {
    "tags": []
   },
   "source": [
    "## EDA\n",
    "> What can we learn about the data?\n",
    "\n",
    "- Can I count something interesting?\n",
    "- Can I find trends (e.g. high, low, increasing, decreasing, anomalies)?\n",
    "- Can I make a bar plot or a histogram?\n",
    "- Can I compare two related quantities?\n",
    "- Can I make a scatterplot?\n",
    "- Can I make a time-series plot?\n",
    "- Looking at the plots, what are some insights I can make?\n",
    "- Can I see any correlations?\n",
    "- Is there a hypothesis I can - and should - investigate further?\n",
    "- What other questions are the insights leading me to ask?"
   ]
  },
  {
   "cell_type": "markdown",
   "id": "d5b666b1-d631-4287-9b43-ccd8a778795b",
   "metadata": {
    "tags": []
   },
   "source": [
    "## Create Narrative\n",
    "Narrative here..."
   ]
  },
  {
   "cell_type": "markdown",
   "id": "289500b5-ab1d-4cd2-8efa-a5e328aece92",
   "metadata": {},
   "source": [
    "## Presentation\n",
    "presentation images and text in this section...\n",
    "\n",
    "> The questions you asked? \\\n",
    "The trends you investigated? \\\n",
    "The resulting visualizations and conclusions?"
   ]
  }
 ],
 "metadata": {
  "kernelspec": {
   "display_name": "Python 3 (ipykernel)",
   "language": "python",
   "name": "python3"
  },
  "language_info": {
   "codemirror_mode": {
    "name": "ipython",
    "version": 3
   },
   "file_extension": ".py",
   "mimetype": "text/x-python",
   "name": "python",
   "nbconvert_exporter": "python",
   "pygments_lexer": "ipython3",
   "version": "3.11.7"
  }
 },
 "nbformat": 4,
 "nbformat_minor": 5
}
