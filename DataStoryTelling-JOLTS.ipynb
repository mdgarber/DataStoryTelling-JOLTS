{
 "cells": [
  {
   "cell_type": "markdown",
   "id": "953a53d8-f591-4cd9-bcfa-55b09ee0f279",
   "metadata": {},
   "source": [
    "# Data Storytelling - JOLTS\n",
    "#### _A look at US Job Openings data over time_\n",
    "***\n",
    "_Michael Garber_"
   ]
  },
  {
   "cell_type": "markdown",
   "id": "86185f6c-2289-481f-b58a-fc8dadcbd552",
   "metadata": {
    "tags": []
   },
   "source": [
    "# Table of Contents\n",
    "> 1. Introduce dataset\n",
    "2. Pick Audience\n",
    "3. EDA\n",
    "4. Create Narrative\n",
    "5. Presentation"
   ]
  },
  {
   "cell_type": "markdown",
   "id": "f8b7695e-0bb2-4bc3-a0a9-170ee24b162e",
   "metadata": {},
   "source": [
    "## Introduction\n",
    "\n",
    "- I have chosen to analyze the the ***JOLTS*** dataset\n",
    "\n",
    "- \"The Job Openings and Labor Turnover Survey (JOLTS) program of the Bureau of Labor Statistics (BLS) produces monthly and annual estimates of job openings, hires, and separations for the nation.\"\n",
    "\n",
    "- Goal: share the story told by the recent trends found within. I will specifically focus on the job openings to understand the labor demands.\n",
    "\n",
    "- Data Set\n",
    "> Info URL - https://www.bls.gov/jlt/jltover.htm \\\n",
    "Data URL - https://download.bls.gov/pub/time.series/jt/jt.data.2.JobOpenings \\\n",
    "Data Definitions - https://download.bls.gov/pub/time.series/jt/jt.txt"
   ]
  },
  {
   "cell_type": "markdown",
   "id": "ad080620-9b1f-4728-9273-ddf8c1c5e3d8",
   "metadata": {
    "tags": []
   },
   "source": [
    "## Pick Audience\n",
    "\n",
    "- I have chosen to target a ***non-technical audience***.\n",
    "    - _I will take care to make the findings accessible and interesting._"
   ]
  },
  {
   "cell_type": "markdown",
   "id": "2331a8d8-8765-437d-8dba-24fce9860ef9",
   "metadata": {
    "tags": []
   },
   "source": [
    "## EDA\n",
    "> What can we learn about the data?\n",
    "\n",
    "- Can I count something interesting?\n",
    "- Can I find trends (e.g. high, low, increasing, decreasing, anomalies)?\n",
    "- Can I make a bar plot or a histogram?\n",
    "- Can I compare two related quantities?\n",
    "- Can I make a scatterplot?\n",
    "- Can I make a time-series plot?\n",
    "- Looking at the plots, what are some insights I can make?\n",
    "- Can I see any correlations?\n",
    "- Is there a hypothesis I can - and should - investigate further?\n",
    "- What other questions are the insights leading me to ask?"
   ]
  },
  {
   "cell_type": "code",
   "execution_count": 8,
   "id": "7c1d3f68-f318-4d97-ba86-752e909e7c06",
   "metadata": {
    "tags": []
   },
   "outputs": [],
   "source": [
    "# Import Libraries\n",
    "from pathlib import Path\n",
    "import pandas as pd\n",
    "from matplotlib import pyplot as plt\n",
    "import seaborn as sns"
   ]
  },
  {
   "cell_type": "code",
   "execution_count": 20,
   "id": "58564d68-d463-4c65-b17c-f467c231095f",
   "metadata": {
    "tags": []
   },
   "outputs": [],
   "source": [
    "# set input file col widths\n",
    "colWidths = [31, 5, 12, 4, 1]\n",
    "\n",
    "# Import JOLTS Data set\n",
    "joltsData = pd.read_fwf(filepath_or_buffer=\"Data/jt.data.2.JobOpenings\", widths=colWidths)"
   ]
  },
  {
   "cell_type": "code",
   "execution_count": 37,
   "id": "be2f9a6b-8f55-4d2d-a334-e222425af4df",
   "metadata": {
    "tags": []
   },
   "outputs": [
    {
     "data": {
      "text/html": [
       "<div>\n",
       "<style scoped>\n",
       "    .dataframe tbody tr th:only-of-type {\n",
       "        vertical-align: middle;\n",
       "    }\n",
       "\n",
       "    .dataframe tbody tr th {\n",
       "        vertical-align: top;\n",
       "    }\n",
       "\n",
       "    .dataframe thead th {\n",
       "        text-align: right;\n",
       "    }\n",
       "</style>\n",
       "<table border=\"1\" class=\"dataframe\">\n",
       "  <thead>\n",
       "    <tr style=\"text-align: right;\">\n",
       "      <th></th>\n",
       "      <th>series_id</th>\n",
       "      <th>year</th>\n",
       "      <th>period</th>\n",
       "      <th>va</th>\n",
       "      <th>l</th>\n",
       "    </tr>\n",
       "  </thead>\n",
       "  <tbody>\n",
       "    <tr>\n",
       "      <th>0</th>\n",
       "      <td>JTS000000000000000JOL</td>\n",
       "      <td>2000</td>\n",
       "      <td>M12</td>\n",
       "      <td>5088.0</td>\n",
       "      <td>NaN</td>\n",
       "    </tr>\n",
       "    <tr>\n",
       "      <th>1</th>\n",
       "      <td>JTS000000000000000JOL</td>\n",
       "      <td>2001</td>\n",
       "      <td>M01</td>\n",
       "      <td>5234.0</td>\n",
       "      <td>NaN</td>\n",
       "    </tr>\n",
       "    <tr>\n",
       "      <th>2</th>\n",
       "      <td>JTS000000000000000JOL</td>\n",
       "      <td>2001</td>\n",
       "      <td>M02</td>\n",
       "      <td>5097.0</td>\n",
       "      <td>NaN</td>\n",
       "    </tr>\n",
       "    <tr>\n",
       "      <th>3</th>\n",
       "      <td>JTS000000000000000JOL</td>\n",
       "      <td>2001</td>\n",
       "      <td>M03</td>\n",
       "      <td>4762.0</td>\n",
       "      <td>NaN</td>\n",
       "    </tr>\n",
       "    <tr>\n",
       "      <th>4</th>\n",
       "      <td>JTS000000000000000JOL</td>\n",
       "      <td>2001</td>\n",
       "      <td>M04</td>\n",
       "      <td>4615.0</td>\n",
       "      <td>NaN</td>\n",
       "    </tr>\n",
       "  </tbody>\n",
       "</table>\n",
       "</div>"
      ],
      "text/plain": [
       "               series_id  year period      va   l\n",
       "0  JTS000000000000000JOL  2000    M12  5088.0 NaN\n",
       "1  JTS000000000000000JOL  2001    M01  5234.0 NaN\n",
       "2  JTS000000000000000JOL  2001    M02  5097.0 NaN\n",
       "3  JTS000000000000000JOL  2001    M03  4762.0 NaN\n",
       "4  JTS000000000000000JOL  2001    M04  4615.0 NaN"
      ]
     },
     "execution_count": 37,
     "metadata": {},
     "output_type": "execute_result"
    }
   ],
   "source": [
    "# check data head\n",
    "joltsData.head()"
   ]
  },
  {
   "cell_type": "code",
   "execution_count": 45,
   "id": "bbaee5c4-494f-4d91-aefc-f690e087d798",
   "metadata": {
    "tags": []
   },
   "outputs": [
    {
     "name": "stdout",
     "output_type": "stream",
     "text": [
      "<class 'pandas.core.frame.DataFrame'>\n",
      "RangeIndex: 105634 entries, 0 to 105633\n",
      "Data columns (total 5 columns):\n",
      " #   Column     Non-Null Count   Dtype  \n",
      "---  ------     --------------   -----  \n",
      " 0   series_id  105634 non-null  object \n",
      " 1   year       105634 non-null  int64  \n",
      " 2   period     105634 non-null  object \n",
      " 3   va         105634 non-null  float64\n",
      " 4   l          0 non-null       float64\n",
      "dtypes: float64(2), int64(1), object(2)\n",
      "memory usage: 4.0+ MB\n"
     ]
    }
   ],
   "source": [
    "joltsData.info()"
   ]
  },
  {
   "cell_type": "code",
   "execution_count": 43,
   "id": "db877dfc-9618-45e3-afb9-9093cb4796f9",
   "metadata": {
    "tags": []
   },
   "outputs": [
    {
     "data": {
      "text/plain": [
       "period\n",
       "M02              8540\n",
       "M03              8540\n",
       "M05              8540\n",
       "M12              8539\n",
       "M04              8539\n",
       "M06              8539\n",
       "M09              8539\n",
       "M01              8538\n",
       "M08              8538\n",
       "M07              8536\n",
       "M11              8183\n",
       "M10              8181\n",
       "M13              3816\n",
       "M07\\t       1       8\n",
       "M10\\t       1       7\n",
       "M08\\t       1       6\n",
       "M01\\t       1       6\n",
       "M09\\t       1       5\n",
       "M11\\t       1       5\n",
       "M12\\t       1       5\n",
       "M04\\t       1       5\n",
       "M06\\t       1       5\n",
       "M02\\t       1       4\n",
       "M03\\t       1       4\n",
       "M05\\t       1       4\n",
       "M13\\t       1       2\n",
       "Name: count, dtype: int64"
      ]
     },
     "execution_count": 43,
     "metadata": {},
     "output_type": "execute_result"
    }
   ],
   "source": [
    "# clean data\n",
    "'''\n",
    "drop cols: series_id, I\n",
    "update col name va to values\n",
    "drop rows where period contains \\t\n",
    "'''\n",
    "joltsData['period'].value_counts()"
   ]
  },
  {
   "cell_type": "code",
   "execution_count": 75,
   "id": "387bb4e3-effe-4e23-a1c8-205f3848adb7",
   "metadata": {
    "tags": []
   },
   "outputs": [
    {
     "data": {
      "text/plain": [
       "year\n",
       "2012    4438\n",
       "2001    4438\n",
       "2021    4438\n",
       "2020    4438\n",
       "2019    4438\n",
       "2018    4438\n",
       "2017    4438\n",
       "2016    4438\n",
       "2015    4438\n",
       "2014    4438\n",
       "2013    4438\n",
       "2011    4438\n",
       "2023    4438\n",
       "2010    4438\n",
       "2009    4438\n",
       "2008    4438\n",
       "2007    4438\n",
       "2006    4438\n",
       "2005    4438\n",
       "2004    4438\n",
       "2003    4438\n",
       "2002    4438\n",
       "2022    4438\n",
       "2024    3204\n",
       "2000     356\n",
       "Name: count, dtype: int64"
      ]
     },
     "execution_count": 75,
     "metadata": {},
     "output_type": "execute_result"
    }
   ],
   "source": [
    "joltsData['year'].value_counts()"
   ]
  },
  {
   "cell_type": "code",
   "execution_count": 73,
   "id": "76a10fe1-49f7-4097-84f3-459118f45f09",
   "metadata": {
    "tags": []
   },
   "outputs": [
    {
     "data": {
      "text/html": [
       "<div>\n",
       "<style scoped>\n",
       "    .dataframe tbody tr th:only-of-type {\n",
       "        vertical-align: middle;\n",
       "    }\n",
       "\n",
       "    .dataframe tbody tr th {\n",
       "        vertical-align: top;\n",
       "    }\n",
       "\n",
       "    .dataframe thead th {\n",
       "        text-align: right;\n",
       "    }\n",
       "</style>\n",
       "<table border=\"1\" class=\"dataframe\">\n",
       "  <thead>\n",
       "    <tr style=\"text-align: right;\">\n",
       "      <th></th>\n",
       "      <th>series_id</th>\n",
       "      <th>year</th>\n",
       "      <th>period</th>\n",
       "      <th>va</th>\n",
       "      <th>l</th>\n",
       "    </tr>\n",
       "  </thead>\n",
       "  <tbody>\n",
       "    <tr>\n",
       "      <th>246</th>\n",
       "      <td>JTS000000000000000JOL</td>\n",
       "      <td>2021</td>\n",
       "      <td>M06\\t       1</td>\n",
       "      <td>317.0</td>\n",
       "      <td>NaN</td>\n",
       "    </tr>\n",
       "    <tr>\n",
       "      <th>247</th>\n",
       "      <td>JTS000000000000000JOL</td>\n",
       "      <td>2021</td>\n",
       "      <td>M07\\t       1</td>\n",
       "      <td>991.0</td>\n",
       "      <td>NaN</td>\n",
       "    </tr>\n",
       "    <tr>\n",
       "      <th>248</th>\n",
       "      <td>JTS000000000000000JOL</td>\n",
       "      <td>2021</td>\n",
       "      <td>M08\\t       1</td>\n",
       "      <td>884.0</td>\n",
       "      <td>NaN</td>\n",
       "    </tr>\n",
       "    <tr>\n",
       "      <th>249</th>\n",
       "      <td>JTS000000000000000JOL</td>\n",
       "      <td>2021</td>\n",
       "      <td>M09\\t       1</td>\n",
       "      <td>875.0</td>\n",
       "      <td>NaN</td>\n",
       "    </tr>\n",
       "    <tr>\n",
       "      <th>250</th>\n",
       "      <td>JTS000000000000000JOL</td>\n",
       "      <td>2021</td>\n",
       "      <td>M10\\t       1</td>\n",
       "      <td>1365.0</td>\n",
       "      <td>NaN</td>\n",
       "    </tr>\n",
       "    <tr>\n",
       "      <th>...</th>\n",
       "      <td>...</td>\n",
       "      <td>...</td>\n",
       "      <td>...</td>\n",
       "      <td>...</td>\n",
       "      <td>...</td>\n",
       "    </tr>\n",
       "    <tr>\n",
       "      <th>85793</th>\n",
       "      <td>JTU100000000000000JOL</td>\n",
       "      <td>2022</td>\n",
       "      <td>M04\\t       1</td>\n",
       "      <td>1453.0</td>\n",
       "      <td>NaN</td>\n",
       "    </tr>\n",
       "    <tr>\n",
       "      <th>85794</th>\n",
       "      <td>JTU100000000000000JOL</td>\n",
       "      <td>2022</td>\n",
       "      <td>M05\\t       1</td>\n",
       "      <td>60.0</td>\n",
       "      <td>NaN</td>\n",
       "    </tr>\n",
       "    <tr>\n",
       "      <th>85796</th>\n",
       "      <td>JTU100000000000000JOL</td>\n",
       "      <td>2022</td>\n",
       "      <td>M07\\t       1</td>\n",
       "      <td>1248.0</td>\n",
       "      <td>NaN</td>\n",
       "    </tr>\n",
       "    <tr>\n",
       "      <th>85799</th>\n",
       "      <td>JTU100000000000000JOL</td>\n",
       "      <td>2022</td>\n",
       "      <td>M10\\t       1</td>\n",
       "      <td>212.0</td>\n",
       "      <td>NaN</td>\n",
       "    </tr>\n",
       "    <tr>\n",
       "      <th>85802</th>\n",
       "      <td>JTU100000000000000JOL</td>\n",
       "      <td>2022</td>\n",
       "      <td>M13\\t       1</td>\n",
       "      <td>136.0</td>\n",
       "      <td>NaN</td>\n",
       "    </tr>\n",
       "  </tbody>\n",
       "</table>\n",
       "<p>66 rows × 5 columns</p>\n",
       "</div>"
      ],
      "text/plain": [
       "                   series_id  year         period      va   l\n",
       "246    JTS000000000000000JOL  2021  M06\\t       1   317.0 NaN\n",
       "247    JTS000000000000000JOL  2021  M07\\t       1   991.0 NaN\n",
       "248    JTS000000000000000JOL  2021  M08\\t       1   884.0 NaN\n",
       "249    JTS000000000000000JOL  2021  M09\\t       1   875.0 NaN\n",
       "250    JTS000000000000000JOL  2021  M10\\t       1  1365.0 NaN\n",
       "...                      ...   ...            ...     ...  ..\n",
       "85793  JTU100000000000000JOL  2022  M04\\t       1  1453.0 NaN\n",
       "85794  JTU100000000000000JOL  2022  M05\\t       1    60.0 NaN\n",
       "85796  JTU100000000000000JOL  2022  M07\\t       1  1248.0 NaN\n",
       "85799  JTU100000000000000JOL  2022  M10\\t       1   212.0 NaN\n",
       "85802  JTU100000000000000JOL  2022  M13\\t       1   136.0 NaN\n",
       "\n",
       "[66 rows x 5 columns]"
      ]
     },
     "execution_count": 73,
     "metadata": {},
     "output_type": "execute_result"
    }
   ],
   "source": [
    "joltsData[joltsData['period'].str.contains('\\t')]"
   ]
  },
  {
   "cell_type": "markdown",
   "id": "d5b666b1-d631-4287-9b43-ccd8a778795b",
   "metadata": {
    "tags": []
   },
   "source": [
    "## Create Narrative\n",
    "Narrative here..."
   ]
  },
  {
   "cell_type": "markdown",
   "id": "289500b5-ab1d-4cd2-8efa-a5e328aece92",
   "metadata": {},
   "source": [
    "## Presentation\n",
    "presentation images and text in this section...\n",
    "\n",
    "> The questions you asked? \\\n",
    "The trends you investigated? \\\n",
    "The resulting visualizations and conclusions?"
   ]
  },
  {
   "cell_type": "markdown",
   "id": "33d63595-af52-4e5f-95b6-c57205db3675",
   "metadata": {},
   "source": [
    "## TODO\n",
    "- clean data before EDA\n",
    "\n",
    "\n",
    "\n",
    "------\n",
    "- read file command (read_fwf) not workng"
   ]
  }
 ],
 "metadata": {
  "kernelspec": {
   "display_name": "Python 3 (ipykernel)",
   "language": "python",
   "name": "python3"
  },
  "language_info": {
   "codemirror_mode": {
    "name": "ipython",
    "version": 3
   },
   "file_extension": ".py",
   "mimetype": "text/x-python",
   "name": "python",
   "nbconvert_exporter": "python",
   "pygments_lexer": "ipython3",
   "version": "3.11.7"
  }
 },
 "nbformat": 4,
 "nbformat_minor": 5
}
